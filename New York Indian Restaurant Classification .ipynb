{
 "cells": [
  {
   "cell_type": "markdown",
   "metadata": {},
   "source": [
    "## Introduction:"
   ]
  },
  {
   "cell_type": "markdown",
   "metadata": {},
   "source": [
    "Classify Indian Restaurants in Manhattan based on the Menu.Using NewYork Borough and Neighborhood data \n",
    "extract Manhattan Borough details. Using foursquare api fetch all venues with Indian as search query.\n",
    "filter Indian Restaurants details and Id. Using Id and foursquare menu api ,extract menu from each restaurant.\n",
    "Using this data classify(K Means) the restaurants specialities and expensive rating."
   ]
  },
  {
   "cell_type": "markdown",
   "metadata": {},
   "source": [
    "## Data"
   ]
  },
  {
   "cell_type": "markdown",
   "metadata": {},
   "source": [
    "New York Borough and Neighborhood data from NYU Spatial Repository  \n",
    "Restaurant venue and Menu from foursquare api and database "
   ]
  }
 ],
 "metadata": {
  "kernelspec": {
   "display_name": "Python 3",
   "language": "python",
   "name": "python3"
  },
  "language_info": {
   "codemirror_mode": {
    "name": "ipython",
    "version": 3
   },
   "file_extension": ".py",
   "mimetype": "text/x-python",
   "name": "python",
   "nbconvert_exporter": "python",
   "pygments_lexer": "ipython3",
   "version": "3.7.0"
  }
 },
 "nbformat": 4,
 "nbformat_minor": 2
}
