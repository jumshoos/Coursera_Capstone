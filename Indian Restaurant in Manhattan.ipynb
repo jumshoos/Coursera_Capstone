{
 "cells": [
  {
   "cell_type": "markdown",
   "metadata": {},
   "source": [
    "### Introduction:"
   ]
  },
  {
   "cell_type": "markdown",
   "metadata": {},
   "source": [
    "Sanjay wants to open an Indian Restaurant in Manhattan,New York. The success of any restaurant depends on multiple factors like location, menu, interior, consistency in taste and many other. Sanjay approached us to help him to find a perfect location and menu for his restaurant. Using New York Neighborhood data and foursquare api we could find the neighborhood details, restaurant ratings and menu of each restaurant.We plan to find neighborhoods where there is good Indian restaurant and get the characteristics of that neighborhood using data analysis. Then we need to find neighborhoods with same character but with less Indian restaurant presence.Using menu option in foursquare api fetch all the menu from each restaurant and find the common items in best rating restaurant. we could get an idea of what people like to have or what kind of food is more popular.\n",
    "Using K mean clustering cluster those restaurants into groups according to the menu, price and ratings. it will help us to get a view among the restaurants."
   ]
  },
  {
   "cell_type": "markdown",
   "metadata": {},
   "source": [
    "### Data"
   ]
  },
  {
   "cell_type": "markdown",
   "metadata": {},
   "source": [
    "From NYU Spatial Repository data feed we get New York Borough and neighborhoods data. Using geopy package we could get geo location like latitude and longitude of each location Restaurant Names, Id, location, ratings and menu from foursquare api"
   ]
  },
  {
   "cell_type": "markdown",
   "metadata": {},
   "source": [
    "### Methodology"
   ]
  },
  {
   "cell_type": "markdown",
   "metadata": {},
   "source": [
    "We Used K Means clustering to group the same type of neighborhoods"
   ]
  },
  {
   "cell_type": "markdown",
   "metadata": {},
   "source": [
    "### Results"
   ]
  },
  {
   "cell_type": "markdown",
   "metadata": {},
   "source": [
    "After comparing the neighborhood with top indian restaurants and the same type neighborhood with less restaurants we found below neighborhoods good to start one\n",
    "\n",
    "Washington Heights  \n",
    "            Inwood  \n",
    "   Hamilton Heights  \n",
    "    Manhattanville  \n",
    "    Central Harlem  \n",
    "       Lenox Hill  \n",
    "   Upper West Side  \n",
    "          Chelsea  \n",
    "      West Village  \n",
    "Financial District  \n",
    "      Civic Center  \n",
    "      Sutton Place  \n",
    "        Turtle Bay  "
   ]
  },
  {
   "cell_type": "markdown",
   "metadata": {},
   "source": [
    "### Discussion"
   ]
  },
  {
   "cell_type": "markdown",
   "metadata": {},
   "source": [
    "We could use more features from api to find the ratings and menu of those restaurants to find the best restuarants and the most famous menu they provide.\n",
    "We could also group the result neigborhoods to find individual characterisitics of those."
   ]
  },
  {
   "cell_type": "markdown",
   "metadata": {},
   "source": [
    "### Conclusion"
   ]
  },
  {
   "cell_type": "markdown",
   "metadata": {},
   "source": [
    "We found the best neighborhoods to start an indian restaurant in Manhattan using data science"
   ]
  },
  {
   "cell_type": "code",
   "execution_count": null,
   "metadata": {},
   "outputs": [],
   "source": []
  }
 ],
 "metadata": {
  "kernelspec": {
   "display_name": "Python 3",
   "language": "python",
   "name": "python3"
  },
  "language_info": {
   "codemirror_mode": {
    "name": "ipython",
    "version": 3
   },
   "file_extension": ".py",
   "mimetype": "text/x-python",
   "name": "python",
   "nbconvert_exporter": "python",
   "pygments_lexer": "ipython3",
   "version": "3.7.0"
  }
 },
 "nbformat": 4,
 "nbformat_minor": 2
}
