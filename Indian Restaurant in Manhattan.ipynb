{
 "cells": [
  {
   "cell_type": "markdown",
   "metadata": {},
   "source": [
    "## Introduction:"
   ]
  },
  {
   "cell_type": "markdown",
   "metadata": {},
   "source": [
    "Sanjay wants to open an Indian Restaurant in Manhattan,New York. The success of any restaurant\n",
    "depends on multiple factors like location, menu, interior, consistency in taste and many other.\n",
    "Sanjay approached us to help him to find a perfect location and menu for his restaurant.\n",
    "Using New York Neighborhood data and foursquare api we could find the neighborhood details, \n",
    "restaurant ratings and menu of each restaurant.We plan to find neighborhoods where there is good Indian\n",
    "restaurant and get the characteristics of that neighborhood using data analysis. Then we need to find \n",
    "neighborhoods with same character but with less Indian restaurant presence.Using menu option in foursquare\n",
    "api fetch all the menu from each restaurant and find the common items in best rating restaurant. we could \n",
    "get an idea of what people like to have or what kind of food is more popular.\n",
    "\n",
    "Using K mean clustering cluster those restaurants into groups according to the menu, price and ratings.\n",
    "it will help us to get a view among the restaurants."
   ]
  },
  {
   "cell_type": "markdown",
   "metadata": {},
   "source": [
    "## Data"
   ]
  },
  {
   "cell_type": "markdown",
   "metadata": {},
   "source": [
    "From NYU Spatial Repository data feed we get New York Borough and neighborhoods data.\n",
    "Using geopy package we could get geo location like latitude and longitude of each location\n",
    "Restaurant Names, Id, location, ratings and menu from foursquare api  "
   ]
  }
 ],
 "metadata": {
  "kernelspec": {
   "display_name": "Python 3",
   "language": "python",
   "name": "python3"
  },
  "language_info": {
   "codemirror_mode": {
    "name": "ipython",
    "version": 3
   },
   "file_extension": ".py",
   "mimetype": "text/x-python",
   "name": "python",
   "nbconvert_exporter": "python",
   "pygments_lexer": "ipython3",
   "version": "3.7.0"
  }
 },
 "nbformat": 4,
 "nbformat_minor": 2
}
